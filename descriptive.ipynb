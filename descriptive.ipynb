{
 "cells": [
  {
   "cell_type": "markdown",
   "source": [],
   "metadata": {
    "collapsed": false
   }
  },
  {
   "cell_type": "code",
   "execution_count": 50,
   "outputs": [
    {
     "name": "stdout",
     "output_type": "stream",
     "text": [
      "<class 'pandas.core.frame.DataFrame'>\n",
      "RangeIndex: 1000 entries, 0 to 999\n",
      "Data columns (total 30 columns):\n",
      " #   Column             Non-Null Count  Dtype  \n",
      "---  ------             --------------  -----  \n",
      " 0   Unnamed: 0         1000 non-null   int64  \n",
      " 1   Year               1000 non-null   int64  \n",
      " 2   Month              1000 non-null   int64  \n",
      " 3   DayofMonth         1000 non-null   int64  \n",
      " 4   DayOfWeek          1000 non-null   int64  \n",
      " 5   DepTime            1000 non-null   int64  \n",
      " 6   CRSDepTime         1000 non-null   int64  \n",
      " 7   ArrTime            990 non-null    float64\n",
      " 8   CRSArrTime         1000 non-null   int64  \n",
      " 9   UniqueCarrier      1000 non-null   object \n",
      " 10  FlightNum          1000 non-null   int64  \n",
      " 11  TailNum            1000 non-null   object \n",
      " 12  ActualElapsedTime  990 non-null    float64\n",
      " 13  CRSElapsedTime     1000 non-null   int64  \n",
      " 14  AirTime            990 non-null    float64\n",
      " 15  ArrDelay           990 non-null    float64\n",
      " 16  DepDelay           1000 non-null   int64  \n",
      " 17  Origin             1000 non-null   object \n",
      " 18  Dest               1000 non-null   object \n",
      " 19  Distance           1000 non-null   int64  \n",
      " 20  TaxiIn             990 non-null    float64\n",
      " 21  TaxiOut            1000 non-null   int64  \n",
      " 22  Cancelled          1000 non-null   int64  \n",
      " 23  CancellationCode   1000 non-null   object \n",
      " 24  Diverted           1000 non-null   int64  \n",
      " 25  CarrierDelay       760 non-null    float64\n",
      " 26  WeatherDelay       760 non-null    float64\n",
      " 27  NASDelay           760 non-null    float64\n",
      " 28  SecurityDelay      760 non-null    float64\n",
      " 29  LateAircraftDelay  760 non-null    float64\n",
      "dtypes: float64(10), int64(15), object(5)\n",
      "memory usage: 234.5+ KB\n"
     ]
    }
   ],
   "source": [
    "import pandas as pd\n",
    "\n",
    "df = pd.read_csv('data/DelayedFlights-updated.csv')\n",
    "df.info()"
   ],
   "metadata": {
    "collapsed": false
   }
  },
  {
   "cell_type": "code",
   "execution_count": 51,
   "outputs": [
    {
     "data": {
      "text/plain": "0    0\n1    0\n2    0\n3    0\n4    0\nName: Diverted, dtype: int64"
     },
     "execution_count": 51,
     "metadata": {},
     "output_type": "execute_result"
    }
   ],
   "source": [
    "df['Diverted'].head()"
   ],
   "metadata": {
    "collapsed": false
   }
  },
  {
   "cell_type": "code",
   "execution_count": 52,
   "outputs": [
    {
     "data": {
      "text/plain": "        Unnamed: 0         Year   Month   DayofMonth   DayOfWeek      DepTime  \\\ncount  1000.000000  1000.000000  1000.0  1000.000000  1000.00000  1000.000000   \nmean    500.500000  2006.907000     6.0    15.498000     4.05400  1482.292000   \nstd     288.819436     2.299922     0.0     8.566644     2.07253   442.275648   \nmin       1.000000  2003.000000     6.0     1.000000     1.00000     3.000000   \n25%     250.750000  2005.000000     6.0     8.000000     2.00000  1216.000000   \n50%     500.500000  2007.000000     6.0    15.000000     4.00000  1502.000000   \n75%     750.250000  2009.000000     6.0    23.000000     6.00000  1740.500000   \nmax    1000.000000  2010.000000     6.0    30.000000     7.00000  2355.000000   \n\n        CRSDepTime      ArrTime   CRSArrTime    FlightNum  ...     Distance  \\\ncount  1000.000000   990.000000  1000.000000  1000.000000  ...  1000.000000   \nmean   1448.495000  1548.412121  1551.941000  1412.514000  ...   880.088000   \nstd     393.308214   581.280682   518.780035    26.924612  ...   442.944715   \nmin     600.000000     1.000000     5.000000  1362.000000  ...   175.000000   \n25%    1155.000000  1310.250000  1305.000000  1391.000000  ...   569.000000   \n50%    1425.000000  1708.500000  1715.000000  1412.000000  ...   837.000000   \n75%    1715.000000  1943.750000  1873.000000  1437.000000  ...  1192.000000   \nmax    2305.000000  2357.000000  2355.000000  1459.000000  ...  1745.000000   \n\n           TaxiIn      TaxiOut  Cancelled     Diverted  CarrierDelay  \\\ncount  990.000000  1000.000000     1000.0  1000.000000    760.000000   \nmean     8.475758    20.875000        0.0     0.010000     17.017105   \nstd      7.212709    17.551679        0.0     0.099549     36.012675   \nmin      2.000000     7.000000        0.0     0.000000      0.000000   \n25%      4.000000    12.000000        0.0     0.000000      0.000000   \n50%      7.000000    16.000000        0.0     0.000000      0.000000   \n75%     10.000000    22.000000        0.0     0.000000     17.000000   \nmax     86.000000   206.000000        0.0     1.000000    321.000000   \n\n       WeatherDelay    NASDelay  SecurityDelay  LateAircraftDelay  \ncount    760.000000  760.000000     760.000000         760.000000  \nmean       3.446053   19.878947       0.015789          28.830263  \nstd       15.267392   41.619027       0.435286          39.344683  \nmin        0.000000    0.000000       0.000000           0.000000  \n25%        0.000000    0.000000       0.000000           0.000000  \n50%        0.000000    7.000000       0.000000          15.000000  \n75%        0.000000   22.000000       0.000000          42.000000  \nmax      187.000000  771.000000      12.000000         352.000000  \n\n[8 rows x 25 columns]",
      "text/html": "<div>\n<style scoped>\n    .dataframe tbody tr th:only-of-type {\n        vertical-align: middle;\n    }\n\n    .dataframe tbody tr th {\n        vertical-align: top;\n    }\n\n    .dataframe thead th {\n        text-align: right;\n    }\n</style>\n<table border=\"1\" class=\"dataframe\">\n  <thead>\n    <tr style=\"text-align: right;\">\n      <th></th>\n      <th>Unnamed: 0</th>\n      <th>Year</th>\n      <th>Month</th>\n      <th>DayofMonth</th>\n      <th>DayOfWeek</th>\n      <th>DepTime</th>\n      <th>CRSDepTime</th>\n      <th>ArrTime</th>\n      <th>CRSArrTime</th>\n      <th>FlightNum</th>\n      <th>...</th>\n      <th>Distance</th>\n      <th>TaxiIn</th>\n      <th>TaxiOut</th>\n      <th>Cancelled</th>\n      <th>Diverted</th>\n      <th>CarrierDelay</th>\n      <th>WeatherDelay</th>\n      <th>NASDelay</th>\n      <th>SecurityDelay</th>\n      <th>LateAircraftDelay</th>\n    </tr>\n  </thead>\n  <tbody>\n    <tr>\n      <th>count</th>\n      <td>1000.000000</td>\n      <td>1000.000000</td>\n      <td>1000.0</td>\n      <td>1000.000000</td>\n      <td>1000.00000</td>\n      <td>1000.000000</td>\n      <td>1000.000000</td>\n      <td>990.000000</td>\n      <td>1000.000000</td>\n      <td>1000.000000</td>\n      <td>...</td>\n      <td>1000.000000</td>\n      <td>990.000000</td>\n      <td>1000.000000</td>\n      <td>1000.0</td>\n      <td>1000.000000</td>\n      <td>760.000000</td>\n      <td>760.000000</td>\n      <td>760.000000</td>\n      <td>760.000000</td>\n      <td>760.000000</td>\n    </tr>\n    <tr>\n      <th>mean</th>\n      <td>500.500000</td>\n      <td>2006.907000</td>\n      <td>6.0</td>\n      <td>15.498000</td>\n      <td>4.05400</td>\n      <td>1482.292000</td>\n      <td>1448.495000</td>\n      <td>1548.412121</td>\n      <td>1551.941000</td>\n      <td>1412.514000</td>\n      <td>...</td>\n      <td>880.088000</td>\n      <td>8.475758</td>\n      <td>20.875000</td>\n      <td>0.0</td>\n      <td>0.010000</td>\n      <td>17.017105</td>\n      <td>3.446053</td>\n      <td>19.878947</td>\n      <td>0.015789</td>\n      <td>28.830263</td>\n    </tr>\n    <tr>\n      <th>std</th>\n      <td>288.819436</td>\n      <td>2.299922</td>\n      <td>0.0</td>\n      <td>8.566644</td>\n      <td>2.07253</td>\n      <td>442.275648</td>\n      <td>393.308214</td>\n      <td>581.280682</td>\n      <td>518.780035</td>\n      <td>26.924612</td>\n      <td>...</td>\n      <td>442.944715</td>\n      <td>7.212709</td>\n      <td>17.551679</td>\n      <td>0.0</td>\n      <td>0.099549</td>\n      <td>36.012675</td>\n      <td>15.267392</td>\n      <td>41.619027</td>\n      <td>0.435286</td>\n      <td>39.344683</td>\n    </tr>\n    <tr>\n      <th>min</th>\n      <td>1.000000</td>\n      <td>2003.000000</td>\n      <td>6.0</td>\n      <td>1.000000</td>\n      <td>1.00000</td>\n      <td>3.000000</td>\n      <td>600.000000</td>\n      <td>1.000000</td>\n      <td>5.000000</td>\n      <td>1362.000000</td>\n      <td>...</td>\n      <td>175.000000</td>\n      <td>2.000000</td>\n      <td>7.000000</td>\n      <td>0.0</td>\n      <td>0.000000</td>\n      <td>0.000000</td>\n      <td>0.000000</td>\n      <td>0.000000</td>\n      <td>0.000000</td>\n      <td>0.000000</td>\n    </tr>\n    <tr>\n      <th>25%</th>\n      <td>250.750000</td>\n      <td>2005.000000</td>\n      <td>6.0</td>\n      <td>8.000000</td>\n      <td>2.00000</td>\n      <td>1216.000000</td>\n      <td>1155.000000</td>\n      <td>1310.250000</td>\n      <td>1305.000000</td>\n      <td>1391.000000</td>\n      <td>...</td>\n      <td>569.000000</td>\n      <td>4.000000</td>\n      <td>12.000000</td>\n      <td>0.0</td>\n      <td>0.000000</td>\n      <td>0.000000</td>\n      <td>0.000000</td>\n      <td>0.000000</td>\n      <td>0.000000</td>\n      <td>0.000000</td>\n    </tr>\n    <tr>\n      <th>50%</th>\n      <td>500.500000</td>\n      <td>2007.000000</td>\n      <td>6.0</td>\n      <td>15.000000</td>\n      <td>4.00000</td>\n      <td>1502.000000</td>\n      <td>1425.000000</td>\n      <td>1708.500000</td>\n      <td>1715.000000</td>\n      <td>1412.000000</td>\n      <td>...</td>\n      <td>837.000000</td>\n      <td>7.000000</td>\n      <td>16.000000</td>\n      <td>0.0</td>\n      <td>0.000000</td>\n      <td>0.000000</td>\n      <td>0.000000</td>\n      <td>7.000000</td>\n      <td>0.000000</td>\n      <td>15.000000</td>\n    </tr>\n    <tr>\n      <th>75%</th>\n      <td>750.250000</td>\n      <td>2009.000000</td>\n      <td>6.0</td>\n      <td>23.000000</td>\n      <td>6.00000</td>\n      <td>1740.500000</td>\n      <td>1715.000000</td>\n      <td>1943.750000</td>\n      <td>1873.000000</td>\n      <td>1437.000000</td>\n      <td>...</td>\n      <td>1192.000000</td>\n      <td>10.000000</td>\n      <td>22.000000</td>\n      <td>0.0</td>\n      <td>0.000000</td>\n      <td>17.000000</td>\n      <td>0.000000</td>\n      <td>22.000000</td>\n      <td>0.000000</td>\n      <td>42.000000</td>\n    </tr>\n    <tr>\n      <th>max</th>\n      <td>1000.000000</td>\n      <td>2010.000000</td>\n      <td>6.0</td>\n      <td>30.000000</td>\n      <td>7.00000</td>\n      <td>2355.000000</td>\n      <td>2305.000000</td>\n      <td>2357.000000</td>\n      <td>2355.000000</td>\n      <td>1459.000000</td>\n      <td>...</td>\n      <td>1745.000000</td>\n      <td>86.000000</td>\n      <td>206.000000</td>\n      <td>0.0</td>\n      <td>1.000000</td>\n      <td>321.000000</td>\n      <td>187.000000</td>\n      <td>771.000000</td>\n      <td>12.000000</td>\n      <td>352.000000</td>\n    </tr>\n  </tbody>\n</table>\n<p>8 rows × 25 columns</p>\n</div>"
     },
     "execution_count": 52,
     "metadata": {},
     "output_type": "execute_result"
    }
   ],
   "source": [
    "df.describe()"
   ],
   "metadata": {
    "collapsed": false
   }
  },
  {
   "cell_type": "code",
   "execution_count": 53,
   "outputs": [
    {
     "data": {
      "text/plain": "count    990.000000\nmean      54.257576\nstd       57.872243\nmin      -16.000000\n25%       16.000000\n50%       37.000000\n75%       77.000000\nmax      771.000000\nName: ArrDelay, dtype: float64"
     },
     "execution_count": 53,
     "metadata": {},
     "output_type": "execute_result"
    }
   ],
   "source": [
    "df['ArrDelay'].describe()\n"
   ],
   "metadata": {
    "collapsed": false
   }
  },
  {
   "cell_type": "code",
   "execution_count": 54,
   "outputs": [
    {
     "data": {
      "text/plain": "Empty DataFrame\nColumns: [Unnamed: 0, Year, Month, DayofMonth, DayOfWeek, DepTime, CRSDepTime, ArrTime, CRSArrTime, UniqueCarrier, FlightNum, TailNum, ActualElapsedTime, CRSElapsedTime, AirTime, ArrDelay, DepDelay, Origin, Dest, Distance, TaxiIn, TaxiOut, Cancelled, CancellationCode, Diverted, CarrierDelay, WeatherDelay, NASDelay, SecurityDelay, LateAircraftDelay]\nIndex: []\n\n[0 rows x 30 columns]",
      "text/html": "<div>\n<style scoped>\n    .dataframe tbody tr th:only-of-type {\n        vertical-align: middle;\n    }\n\n    .dataframe tbody tr th {\n        vertical-align: top;\n    }\n\n    .dataframe thead th {\n        text-align: right;\n    }\n</style>\n<table border=\"1\" class=\"dataframe\">\n  <thead>\n    <tr style=\"text-align: right;\">\n      <th></th>\n      <th>Unnamed: 0</th>\n      <th>Year</th>\n      <th>Month</th>\n      <th>DayofMonth</th>\n      <th>DayOfWeek</th>\n      <th>DepTime</th>\n      <th>CRSDepTime</th>\n      <th>ArrTime</th>\n      <th>CRSArrTime</th>\n      <th>UniqueCarrier</th>\n      <th>...</th>\n      <th>TaxiIn</th>\n      <th>TaxiOut</th>\n      <th>Cancelled</th>\n      <th>CancellationCode</th>\n      <th>Diverted</th>\n      <th>CarrierDelay</th>\n      <th>WeatherDelay</th>\n      <th>NASDelay</th>\n      <th>SecurityDelay</th>\n      <th>LateAircraftDelay</th>\n    </tr>\n  </thead>\n  <tbody>\n  </tbody>\n</table>\n<p>0 rows × 30 columns</p>\n</div>"
     },
     "execution_count": 54,
     "metadata": {},
     "output_type": "execute_result"
    }
   ],
   "source": [
    "df.loc[df['ArrDelay'] - df['CarrierDelay'] < 0]\n"
   ],
   "metadata": {
    "collapsed": false
   }
  },
  {
   "cell_type": "code",
   "execution_count": 55,
   "outputs": [
    {
     "data": {
      "text/plain": "Empty DataFrame\nColumns: [Unnamed: 0, Year, Month, DayofMonth, DayOfWeek, DepTime, CRSDepTime, ArrTime, CRSArrTime, UniqueCarrier, FlightNum, TailNum, ActualElapsedTime, CRSElapsedTime, AirTime, ArrDelay, DepDelay, Origin, Dest, Distance, TaxiIn, TaxiOut, Cancelled, CancellationCode, Diverted, CarrierDelay, WeatherDelay, NASDelay, SecurityDelay, LateAircraftDelay]\nIndex: []\n\n[0 rows x 30 columns]",
      "text/html": "<div>\n<style scoped>\n    .dataframe tbody tr th:only-of-type {\n        vertical-align: middle;\n    }\n\n    .dataframe tbody tr th {\n        vertical-align: top;\n    }\n\n    .dataframe thead th {\n        text-align: right;\n    }\n</style>\n<table border=\"1\" class=\"dataframe\">\n  <thead>\n    <tr style=\"text-align: right;\">\n      <th></th>\n      <th>Unnamed: 0</th>\n      <th>Year</th>\n      <th>Month</th>\n      <th>DayofMonth</th>\n      <th>DayOfWeek</th>\n      <th>DepTime</th>\n      <th>CRSDepTime</th>\n      <th>ArrTime</th>\n      <th>CRSArrTime</th>\n      <th>UniqueCarrier</th>\n      <th>...</th>\n      <th>TaxiIn</th>\n      <th>TaxiOut</th>\n      <th>Cancelled</th>\n      <th>CancellationCode</th>\n      <th>Diverted</th>\n      <th>CarrierDelay</th>\n      <th>WeatherDelay</th>\n      <th>NASDelay</th>\n      <th>SecurityDelay</th>\n      <th>LateAircraftDelay</th>\n    </tr>\n  </thead>\n  <tbody>\n  </tbody>\n</table>\n<p>0 rows × 30 columns</p>\n</div>"
     },
     "execution_count": 55,
     "metadata": {},
     "output_type": "execute_result"
    }
   ],
   "source": [
    "df.loc[df['ArrDelay'] - df['NASDelay'] < 0]\n"
   ],
   "metadata": {
    "collapsed": false
   }
  },
  {
   "cell_type": "code",
   "execution_count": 56,
   "outputs": [
    {
     "data": {
      "text/plain": "Empty DataFrame\nColumns: [Unnamed: 0, Year, Month, DayofMonth, DayOfWeek, DepTime, CRSDepTime, ArrTime, CRSArrTime, UniqueCarrier, FlightNum, TailNum, ActualElapsedTime, CRSElapsedTime, AirTime, ArrDelay, DepDelay, Origin, Dest, Distance, TaxiIn, TaxiOut, Cancelled, CancellationCode, Diverted, CarrierDelay, WeatherDelay, NASDelay, SecurityDelay, LateAircraftDelay]\nIndex: []\n\n[0 rows x 30 columns]",
      "text/html": "<div>\n<style scoped>\n    .dataframe tbody tr th:only-of-type {\n        vertical-align: middle;\n    }\n\n    .dataframe tbody tr th {\n        vertical-align: top;\n    }\n\n    .dataframe thead th {\n        text-align: right;\n    }\n</style>\n<table border=\"1\" class=\"dataframe\">\n  <thead>\n    <tr style=\"text-align: right;\">\n      <th></th>\n      <th>Unnamed: 0</th>\n      <th>Year</th>\n      <th>Month</th>\n      <th>DayofMonth</th>\n      <th>DayOfWeek</th>\n      <th>DepTime</th>\n      <th>CRSDepTime</th>\n      <th>ArrTime</th>\n      <th>CRSArrTime</th>\n      <th>UniqueCarrier</th>\n      <th>...</th>\n      <th>TaxiIn</th>\n      <th>TaxiOut</th>\n      <th>Cancelled</th>\n      <th>CancellationCode</th>\n      <th>Diverted</th>\n      <th>CarrierDelay</th>\n      <th>WeatherDelay</th>\n      <th>NASDelay</th>\n      <th>SecurityDelay</th>\n      <th>LateAircraftDelay</th>\n    </tr>\n  </thead>\n  <tbody>\n  </tbody>\n</table>\n<p>0 rows × 30 columns</p>\n</div>"
     },
     "execution_count": 56,
     "metadata": {},
     "output_type": "execute_result"
    }
   ],
   "source": [
    "df.loc[df['ArrDelay'] - df['WeatherDelay'] < 0]\n"
   ],
   "metadata": {
    "collapsed": false
   }
  },
  {
   "cell_type": "code",
   "execution_count": 57,
   "outputs": [
    {
     "data": {
      "text/plain": "Empty DataFrame\nColumns: [Unnamed: 0, Year, Month, DayofMonth, DayOfWeek, DepTime, CRSDepTime, ArrTime, CRSArrTime, UniqueCarrier, FlightNum, TailNum, ActualElapsedTime, CRSElapsedTime, AirTime, ArrDelay, DepDelay, Origin, Dest, Distance, TaxiIn, TaxiOut, Cancelled, CancellationCode, Diverted, CarrierDelay, WeatherDelay, NASDelay, SecurityDelay, LateAircraftDelay]\nIndex: []\n\n[0 rows x 30 columns]",
      "text/html": "<div>\n<style scoped>\n    .dataframe tbody tr th:only-of-type {\n        vertical-align: middle;\n    }\n\n    .dataframe tbody tr th {\n        vertical-align: top;\n    }\n\n    .dataframe thead th {\n        text-align: right;\n    }\n</style>\n<table border=\"1\" class=\"dataframe\">\n  <thead>\n    <tr style=\"text-align: right;\">\n      <th></th>\n      <th>Unnamed: 0</th>\n      <th>Year</th>\n      <th>Month</th>\n      <th>DayofMonth</th>\n      <th>DayOfWeek</th>\n      <th>DepTime</th>\n      <th>CRSDepTime</th>\n      <th>ArrTime</th>\n      <th>CRSArrTime</th>\n      <th>UniqueCarrier</th>\n      <th>...</th>\n      <th>TaxiIn</th>\n      <th>TaxiOut</th>\n      <th>Cancelled</th>\n      <th>CancellationCode</th>\n      <th>Diverted</th>\n      <th>CarrierDelay</th>\n      <th>WeatherDelay</th>\n      <th>NASDelay</th>\n      <th>SecurityDelay</th>\n      <th>LateAircraftDelay</th>\n    </tr>\n  </thead>\n  <tbody>\n  </tbody>\n</table>\n<p>0 rows × 30 columns</p>\n</div>"
     },
     "execution_count": 57,
     "metadata": {},
     "output_type": "execute_result"
    }
   ],
   "source": [
    "df.loc[df['ArrDelay'] - df['LateAircraftDelay'] < 0]\n"
   ],
   "metadata": {
    "collapsed": false
   }
  },
  {
   "cell_type": "code",
   "execution_count": 58,
   "outputs": [
    {
     "data": {
      "text/plain": "Empty DataFrame\nColumns: [Unnamed: 0, Year, Month, DayofMonth, DayOfWeek, DepTime, CRSDepTime, ArrTime, CRSArrTime, UniqueCarrier, FlightNum, TailNum, ActualElapsedTime, CRSElapsedTime, AirTime, ArrDelay, DepDelay, Origin, Dest, Distance, TaxiIn, TaxiOut, Cancelled, CancellationCode, Diverted, CarrierDelay, WeatherDelay, NASDelay, SecurityDelay, LateAircraftDelay]\nIndex: []\n\n[0 rows x 30 columns]",
      "text/html": "<div>\n<style scoped>\n    .dataframe tbody tr th:only-of-type {\n        vertical-align: middle;\n    }\n\n    .dataframe tbody tr th {\n        vertical-align: top;\n    }\n\n    .dataframe thead th {\n        text-align: right;\n    }\n</style>\n<table border=\"1\" class=\"dataframe\">\n  <thead>\n    <tr style=\"text-align: right;\">\n      <th></th>\n      <th>Unnamed: 0</th>\n      <th>Year</th>\n      <th>Month</th>\n      <th>DayofMonth</th>\n      <th>DayOfWeek</th>\n      <th>DepTime</th>\n      <th>CRSDepTime</th>\n      <th>ArrTime</th>\n      <th>CRSArrTime</th>\n      <th>UniqueCarrier</th>\n      <th>...</th>\n      <th>TaxiIn</th>\n      <th>TaxiOut</th>\n      <th>Cancelled</th>\n      <th>CancellationCode</th>\n      <th>Diverted</th>\n      <th>CarrierDelay</th>\n      <th>WeatherDelay</th>\n      <th>NASDelay</th>\n      <th>SecurityDelay</th>\n      <th>LateAircraftDelay</th>\n    </tr>\n  </thead>\n  <tbody>\n  </tbody>\n</table>\n<p>0 rows × 30 columns</p>\n</div>"
     },
     "execution_count": 58,
     "metadata": {},
     "output_type": "execute_result"
    }
   ],
   "source": [
    "df.loc[df['ArrDelay'] - df['SecurityDelay'] < 0]\n"
   ],
   "metadata": {
    "collapsed": false
   }
  }
 ],
 "metadata": {
  "kernelspec": {
   "display_name": "Python 3",
   "language": "python",
   "name": "python3"
  },
  "language_info": {
   "codemirror_mode": {
    "name": "ipython",
    "version": 2
   },
   "file_extension": ".py",
   "mimetype": "text/x-python",
   "name": "python",
   "nbconvert_exporter": "python",
   "pygments_lexer": "ipython2",
   "version": "2.7.6"
  }
 },
 "nbformat": 4,
 "nbformat_minor": 0
}
